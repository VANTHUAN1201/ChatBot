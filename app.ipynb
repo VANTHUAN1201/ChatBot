{
 "cells": [
  {
   "cell_type": "code",
   "execution_count": 1,
   "metadata": {},
   "outputs": [
    {
     "name": "stderr",
     "output_type": "stream",
     "text": [
      "c:\\Users\\ADMIN\\Python_project\\ChatBot\\API\\crawl_UTE.py:10: GuessedAtParserWarning: No parser was explicitly specified, so I'm using the best available HTML parser for this system (\"lxml\"). This usually isn't a problem, but if you run this code on another system, or in a different virtual environment, it may use a different parser and behave differently.\n",
      "\n",
      "The code that caused this warning is on line 10 of the file c:\\Users\\ADMIN\\Python_project\\ChatBot\\API\\crawl_UTE.py. To get rid of this warning, pass the additional argument 'features=\"lxml\"' to the BeautifulSoup constructor.\n",
      "\n",
      "  soup = BeautifulSoup(result.content,\"html\")\n"
     ]
    },
    {
     "name": "stdout",
     "output_type": "stream",
     "text": [
      " * Serving Flask app '__main__' (lazy loading)\n",
      " * Environment: production\n",
      "\u001b[31m   WARNING: This is a development server. Do not use it in a production deployment.\u001b[0m\n",
      "\u001b[2m   Use a production WSGI server instead.\u001b[0m\n",
      " * Debug mode: off\n"
     ]
    },
    {
     "name": "stderr",
     "output_type": "stream",
     "text": [
      "c:\\Users\\ADMIN\\Python_project\\ChatBot\\API\\crawl_UTE.py:20: GuessedAtParserWarning: No parser was explicitly specified, so I'm using the best available HTML parser for this system (\"lxml\"). This usually isn't a problem, but if you run this code on another system, or in a different virtual environment, it may use a different parser and behave differently.\n",
      "\n",
      "The code that caused this warning is on line 20 of the file c:\\Users\\ADMIN\\Python_project\\ChatBot\\API\\crawl_UTE.py. To get rid of this warning, pass the additional argument 'features=\"lxml\"' to the BeautifulSoup constructor.\n",
      "\n",
      "  soup = BeautifulSoup(tree.content,\"html\")\n",
      " * Running on http://127.0.0.1:5000 (Press CTRL+C to quit)\n",
      "127.0.0.1 - - [10/May/2022 06:53:24] \"GET / HTTP/1.1\" 200 -\n",
      "127.0.0.1 - - [10/May/2022 06:53:25] \"GET /static/css/main.css HTTP/1.1\" 304 -\n",
      "127.0.0.1 - - [10/May/2022 06:53:25] \"GET /static/images/menu.png HTTP/1.1\" 304 -\n",
      "127.0.0.1 - - [10/May/2022 06:53:25] \"GET /static/images/submit.png HTTP/1.1\" 304 -\n",
      "127.0.0.1 - - [10/May/2022 06:53:25] \"GET /static/images/avt_bot.png HTTP/1.1\" 304 -\n",
      "127.0.0.1 - - [10/May/2022 06:53:25] \"GET /static/font/Roboto/Roboto-Bold.ttf HTTP/1.1\" 304 -\n",
      "127.0.0.1 - - [10/May/2022 06:53:25] \"GET /favicon.ico HTTP/1.1\" 404 -\n",
      "127.0.0.1 - - [10/May/2022 06:53:27] \"GET /get?msg=a&DB= HTTP/1.1\" 200 -\n",
      "127.0.0.1 - - [10/May/2022 06:53:27] \"GET /static/images/avt_user.jpg HTTP/1.1\" 304 -\n",
      "127.0.0.1 - - [10/May/2022 06:53:27] \"GET /get?msg=a&DB= HTTP/1.1\" 200 -\n",
      "127.0.0.1 - - [10/May/2022 06:53:27] \"GET /get?msg=a&DB= HTTP/1.1\" 200 -\n",
      "127.0.0.1 - - [10/May/2022 06:53:28] \"GET /get?msg=a&DB= HTTP/1.1\" 200 -\n",
      "127.0.0.1 - - [10/May/2022 06:53:32] \"GET /get?msg=hello&DB= HTTP/1.1\" 200 -\n",
      "127.0.0.1 - - [10/May/2022 06:53:37] \"GET /get?msg=hello&DB=InforGroup HTTP/1.1\" 200 -\n",
      "127.0.0.1 - - [10/May/2022 06:53:42] \"GET /get?msg=bạn%20là%20ai%3F&DB=InforGroup HTTP/1.1\" 200 -\n"
     ]
    }
   ],
   "source": [
    "from flask import Flask, render_template, request\n",
    "from Modules import RequestsServer as rs, crawl_UTE as cu\n",
    "\n",
    "\n",
    "# create app \n",
    "app = Flask(__name__)\n",
    "# home \n",
    "@app.route(\"/\")\n",
    "def home():\n",
    "    return render_template(\"index.html\")\n",
    "# get reply \n",
    "@app.route(\"/get\")\n",
    "def get_bot_response():\n",
    "    userText = request.args.get('msg')\n",
    "    db = request.args.get('DB')\n",
    "    return rs.main_requests(userText,db)\n",
    "    \n",
    "\n",
    "# run main\n",
    "if __name__ == \"__main__\":\n",
    "    cu.crawl_data()\n",
    "    app.run()"
   ]
  },
  {
   "cell_type": "code",
   "execution_count": null,
   "metadata": {},
   "outputs": [],
   "source": []
  }
 ],
 "metadata": {
  "interpreter": {
   "hash": "26de051ba29f2982a8de78e945f0abaf191376122a1563185a90213a26c5da77"
  },
  "kernelspec": {
   "display_name": "Python 3.10.2 64-bit",
   "language": "python",
   "name": "python3"
  },
  "language_info": {
   "codemirror_mode": {
    "name": "ipython",
    "version": 3
   },
   "file_extension": ".py",
   "mimetype": "text/x-python",
   "name": "python",
   "nbconvert_exporter": "python",
   "pygments_lexer": "ipython3",
   "version": "3.10.2"
  },
  "orig_nbformat": 4
 },
 "nbformat": 4,
 "nbformat_minor": 2
}
