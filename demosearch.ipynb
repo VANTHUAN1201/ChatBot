{
 "cells": [
  {
   "cell_type": "code",
   "execution_count": 1,
   "metadata": {},
   "outputs": [
    {
     "name": "stdout",
     "output_type": "stream",
     "text": [
      " * Serving Flask app '__main__' (lazy loading)\n",
      " * Environment: production\n",
      "\u001b[31m   WARNING: This is a development server. Do not use it in a production deployment.\u001b[0m\n",
      "\u001b[2m   Use a production WSGI server instead.\u001b[0m\n",
      " * Debug mode: off\n"
     ]
    },
    {
     "name": "stderr",
     "output_type": "stream",
     "text": [
      " * Running on http://127.0.0.1:5000 (Press CTRL+C to quit)\n",
      "127.0.0.1 - - [08/May/2022 17:33:40] \"GET / HTTP/1.1\" 200 -\n",
      "127.0.0.1 - - [08/May/2022 17:33:40] \"GET /static/css/main.css HTTP/1.1\" 304 -\n",
      "127.0.0.1 - - [08/May/2022 17:33:40] \"GET /static/images/avt_bot.png HTTP/1.1\" 304 -\n",
      "127.0.0.1 - - [08/May/2022 17:33:40] \"GET /static/images/submit.png HTTP/1.1\" 304 -\n",
      "127.0.0.1 - - [08/May/2022 17:33:42] \"GET /static/images/avt_bot.webp HTTP/1.1\" 304 -\n",
      "127.0.0.1 - - [08/May/2022 17:33:43] \"GET /get?msg=trường%20đại%20học%20sư%20phạm%20kỹ%20thuật%20nằm%20ở%20đâu%3F&DB= HTTP/1.1\" 200 -\n"
     ]
    },
    {
     "name": "stdout",
     "output_type": "stream",
     "text": [
      "\n"
     ]
    }
   ],
   "source": [
    "from flask import Flask, render_template, request\n",
    "from datetime import date, datetime\n",
    "import time\n",
    "import re\n",
    "import random\n",
    "import json\n",
    "import requests\n",
    "from bs4 import BeautifulSoup\n",
    "from lxml import html\n",
    "\n",
    "# find a like b\n",
    "def like(a,b):\n",
    "    a = a.split(\" \")\n",
    "    for i in a:\n",
    "        if b.find(i) < 0:\n",
    "            return False\n",
    "    return True\n",
    "# check list a like b \n",
    "def check(a,b):\n",
    "    for i in a:\n",
    "        if like(i,b):\n",
    "            return True\n",
    "    return False\n",
    "# create app \n",
    "app = Flask(__name__)\n",
    "# home \n",
    "@app.route(\"/\")\n",
    "def home():\n",
    "    return render_template(\"index.html\")\n",
    "# get reply \n",
    "@app.route(\"/get\")\n",
    "def get_bot_response():\n",
    "    userText = request.args.get('msg')\n",
    "    hour = [\"mấy giờ\",\"giờ hiện tại\",\"bây giờ mấy giờ\"]\n",
    "    day = [\"hôm nay ngày\",\"ngày hiện tại\",\"hôm ni ngày\"]\n",
    "    if check(hour,userText):\n",
    "        return datetime.now().strftime(\"%H:%M:%S\")\n",
    "    else:\n",
    "        if check(day,userText):\n",
    "            return datetime.now().strftime(\"%d/%m/%Y\")\n",
    "        else:\n",
    "            userText = str(userText).replace(\" \",\"%\")\n",
    "            http = \"https://www.google.com/search?q=\"+userText\n",
    "            result = requests.get(http)\n",
    "            tree = html.fromstring(result.content)\n",
    "            # soup = BeautifulSoup(result.content,\"html\")\n",
    "            # data = soup.find(\"div\",\"sXLaOe\")\n",
    "            data = tree.xpath('//div[@class=\"sXLaOe\"]/text()')\n",
    "            av=\"\"\n",
    "            for i in data:\n",
    "                av = i\n",
    "            print(av)\n",
    "            return av\n",
    "# run main\n",
    "if __name__ == \"__main__\":\n",
    "    app.run()\n"
   ]
  },
  {
   "cell_type": "code",
   "execution_count": 4,
   "metadata": {},
   "outputs": [],
   "source": [
    "from flask import Flask, render_template, request\n",
    "from datetime import date, datetime\n",
    "import time\n",
    "import re\n",
    "import random\n",
    "import json\n",
    "import requests\n",
    "from bs4 import BeautifulSoup\n",
    "from lxml import html\n",
    "http = \"https://www.google.com/search?q=\"+'trường+đại+học+sư+phạm+kỹ+thuật+nằm+ở+đâu'\n",
    "result = requests.get(http)\n",
    "tree = html.fromstring(result.content)\n",
    "# soup = BeautifulSoup(result.content,\"html\")\n",
    "# data = soup.find(\"div\",\"sXLaOe\")\n",
    "data = tree.xpath('//div[@class=\"BRoiGe\"]//div/text()')\n",
    "for i in data:\n",
    "    print(i)"
   ]
  },
  {
   "cell_type": "code",
   "execution_count": null,
   "metadata": {},
   "outputs": [],
   "source": []
  }
 ],
 "metadata": {
  "interpreter": {
   "hash": "26de051ba29f2982a8de78e945f0abaf191376122a1563185a90213a26c5da77"
  },
  "kernelspec": {
   "display_name": "Python 3.10.2 64-bit",
   "language": "python",
   "name": "python3"
  },
  "language_info": {
   "codemirror_mode": {
    "name": "ipython",
    "version": 3
   },
   "file_extension": ".py",
   "mimetype": "text/x-python",
   "name": "python",
   "nbconvert_exporter": "python",
   "pygments_lexer": "ipython3",
   "version": "3.10.2"
  },
  "orig_nbformat": 4
 },
 "nbformat": 4,
 "nbformat_minor": 2
}
